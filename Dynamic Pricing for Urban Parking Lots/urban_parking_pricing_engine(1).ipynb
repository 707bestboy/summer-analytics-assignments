{
  "cells": [
    {
      "cell_type": "markdown",
      "metadata": {
        "id": "VTvr4_sti9Am"
      },
      "source": [
        "# Dynamic Pricing for Urban Parking Lots"
      ]
    },
    {
      "cell_type": "code",
      "execution_count": null,
      "metadata": {
        "id": "LlwkKnB50IGF"
      },
      "outputs": [],
      "source": [
        "!pip install pathway bokeh --quiet # This cell may take a few seconds to execute."
      ]
    },
    {
      "cell_type": "code",
      "execution_count": null,
      "metadata": {
        "id": "pHuc1nkJveN3"
      },
      "outputs": [],
      "source": [
        "import numpy as np\n",
        "import pandas as pd\n",
        "import matplotlib.pyplot as plt\n",
        "import datetime\n",
        "from datetime import datetime\n",
        "import pathway as pw\n",
        "import bokeh.plotting\n",
        "import panel as pn"
      ]
    },
    {
      "cell_type": "code",
      "execution_count": null,
      "metadata": {
        "id": "4D6geoV9veN3"
      },
      "outputs": [],
      "source": [
        "url = \"https://drive.google.com/uc?id=1D479FLjp9aO3Mg8g6Lpj9oRViWacurA6\"\n",
        "\n",
        "\n",
        "df = pd.read_csv(url)\n",
        "df\n",
        "\n",
        "# You can find the sample dataset here: https://drive.google.com/file/d/1D479FLjp9aO3Mg8g6Lpj9oRViWacurA6/view?usp=sharing"
      ]
    },
    {
      "cell_type": "markdown",
      "metadata": {
        "id": "gGpZl1FxjFXE"
      },
      "source": [
        "# Preprocessing the Data"
      ]
    },
    {
      "cell_type": "code",
      "execution_count": null,
      "metadata": {
        "id": "QBrvlQTjveN4"
      },
      "outputs": [],
      "source": [
        "# Combine the 'LastUpdatedDate' and 'LastUpdatedTime' columns into a single datetime column\n",
        "df['Timestamp'] = pd.to_datetime(df['LastUpdatedDate'] + ' ' + df['LastUpdatedTime'],\n",
        "                                  format='%d-%m-%Y %H:%M:%S')\n",
        "\n",
        "# Sort the DataFrame by the new 'Timestamp' column and reset the index\n",
        "df = df.sort_values('Timestamp').reset_index(drop=True)"
      ]
    },
    {
      "cell_type": "code",
      "execution_count": null,
      "metadata": {
        "id": "c52UkGGpveN5"
      },
      "outputs": [],
      "source": [
        "# Save the selected columns to a CSV file for streaming or downstream processing\n",
        "df[[\"Timestamp\", \"Occupancy\", \"Capacity\"]].to_csv(\"parking_stream.csv\", index=False)\n",
        "\n",
        "# Note: Only three features are used here for simplicity.\n",
        "# Participants are expected to incorporate additional relevant features in their models."
      ]
    },
    {
      "cell_type": "code",
      "execution_count": null,
      "metadata": {
        "id": "H0pe3TGIyKJE"
      },
      "outputs": [],
      "source": [
        "# Define the schema for the streaming data using Pathway\n",
        "# This schema specifies the expected structure of each data row in the stream\n",
        "\n",
        "class ParkingSchema(pw.Schema):\n",
        "    Timestamp: str   # Timestamp of the observation (should ideally be in ISO format)\n",
        "    Occupancy: int   # Number of occupied parking spots\n",
        "    Capacity: int    # Total parking capacity at the location\n"
      ]
    },
    {
      "cell_type": "code",
      "execution_count": null,
      "metadata": {
        "id": "a4LxMh4xziMv"
      },
      "outputs": [],
      "source": [
        "# Load the data as a simulated stream using Pathway's replay_csv function\n",
        "# This replays the CSV data at a controlled input rate to mimic real-time streaming\n",
        "# input_rate=1000 means approximately 1000 rows per second will be ingested into the stream.\n",
        "\n",
        "data = pw.demo.replay_csv(\"parking_stream.csv\", schema=ParkingSchema, input_rate=1000)"
      ]
    },
    {
      "cell_type": "code",
      "execution_count": null,
      "metadata": {
        "id": "IkBP_AA-zjec"
      },
      "outputs": [],
      "source": [
        "# Define the datetime format to parse the 'Timestamp' column\n",
        "fmt = \"%Y-%m-%d %H:%M:%S\"\n",
        "\n",
        "# Add new columns to the data stream:\n",
        "# - 't' contains the parsed full datetime\n",
        "# - 'day' extracts the date part and resets the time to midnight (useful for day-level aggregations)\n",
        "data_with_time = data.with_columns(\n",
        "    t = data.Timestamp.dt.strptime(fmt),\n",
        "    day = data.Timestamp.dt.strptime(fmt).dt.strftime(\"%Y-%m-%dT00:00:00\")\n",
        ")\n"
      ]
    },
    {
      "cell_type": "markdown",
      "metadata": {
        "id": "E3sMSFtUqvax"
      },
      "source": [
        "# Model 1 - Baseline Linear Model"
      ]
    },
    {
      "cell_type": "code",
      "source": [
        "# STEP 2: Your Capstone Code Starts Here\n",
        "import pathway as pw\n",
        "from pathway.io.csv import read, write\n",
        "\n",
        "# Define your schema (modern version uses Python types)\n",
        "class ParkingSchema(pw.Schema):\n",
        "    Timestamp: str\n",
        "    Occupancy: int\n",
        "    Capacity: int\n",
        "\n",
        "# STEP 4: Load the CSV as a stream (replace with your real file if needed)\n",
        "source = read(\n",
        "    \"parking_stream.csv\",  # your CSV file\n",
        "    schema=ParkingSchema,\n",
        "    mode=\"streaming\",       # treat as real-time stream\n",
        "    autocommit_duration_ms=1000,\n",
        ")\n",
        "\n",
        "# STEP 5: Model 1 Pricing Logic (baseline)\n",
        "@pw.udf\n",
        "def model1_price(occupancy, capacity):\n",
        "    base_price = 10\n",
        "    alpha = 0.2\n",
        "    price = base_price + alpha * (occupancy / capacity)\n",
        "    return round(min(max(price, 5), 20), 2)  # clamp price between $5 and $20\n",
        "\n",
        "# STEP 6: Apply pricing\n",
        "result = source.select(\n",
        "    Timestamp = source.Timestamp,\n",
        "    Occupancy = source.Occupancy,\n",
        "    Capacity = source.Capacity,\n",
        "    Price = model1_price(source.Occupancy, source.Capacity)\n",
        ")\n",
        "\n",
        "# STEP 7: Write to output CSV\n",
        "write(result, \"final_prices.csv\")\n",
        "\n",
        "# STEP 8: Execute\n",
        "pw.run()\n"
      ],
      "metadata": {
        "id": "MDofTwxWrcva"
      },
      "execution_count": null,
      "outputs": []
    },
    {
      "cell_type": "code",
      "source": [
        "import pandas as pd\n",
        "import matplotlib.pyplot as plt\n",
        "\n",
        "# Load the CSV that was generated earlier\n",
        "df = pd.read_csv(\"final_prices.csv\")\n",
        "\n",
        "# Convert Timestamp to datetime (if not already)\n",
        "df[\"Timestamp\"] = pd.to_datetime(df[\"Timestamp\"])\n",
        "\n",
        "# Sort by Timestamp for plotting\n",
        "df = df.sort_values(\"Timestamp\")\n",
        "\n",
        "# Plotting\n",
        "plt.figure(figsize=(12, 6))\n",
        "plt.plot(df[\"Timestamp\"], df[\"Price\"], marker=\"o\", color=\"purple\", linewidth=2)\n",
        "plt.title(\"Dynamic Parking Price Over Time (Model 1)\", fontsize=16)\n",
        "plt.xlabel(\"Timestamp\", fontsize=12)\n",
        "plt.ylabel(\"Price ($)\", fontsize=12)\n",
        "plt.grid(True)\n",
        "plt.xticks(rotation=45)\n",
        "plt.tight_layout()\n",
        "plt.show()\n"
      ],
      "metadata": {
        "id": "LLHbFpOCuuig"
      },
      "execution_count": null,
      "outputs": []
    },
    {
      "cell_type": "markdown",
      "source": [
        "# Model 2 - Demand-Based Price Function"
      ],
      "metadata": {
        "id": "f6Jw4BhivBun"
      }
    },
    {
      "cell_type": "code",
      "source": [
        "import pandas as pd\n",
        "import random\n",
        "\n",
        "df = pd.read_csv(\"parking_stream.csv\")\n",
        "\n",
        "# Fill with sample data\n",
        "df[\"QueueLength\"] = [random.randint(0, 5) for _ in range(len(df))]\n",
        "df[\"Traffic\"] = [round(random.uniform(0.2, 1.0), 2) for _ in range(len(df))]\n",
        "df[\"IsSpecialDay\"] = [random.choice([0, 1]) for _ in range(len(df))]\n",
        "df[\"VehicleType\"] = [random.choice([\"car\", \"bike\", \"truck\"]) for _ in range(len(df))]\n",
        "\n",
        "# Overwrite CSV\n",
        "df.to_csv(\"parking_stream.csv\", index=False)\n"
      ],
      "metadata": {
        "id": "NjtvU9lQWUcw"
      },
      "execution_count": null,
      "outputs": []
    },
    {
      "cell_type": "code",
      "source": [
        "# ✅ Step 1: Clean Model 2 Implementation\n",
        "import pathway as pw\n",
        "from pathway.io.csv import read, write\n",
        "\n",
        "# Define schema for extended CSV\n",
        "class ParkingSchema(pw.Schema):\n",
        "    Timestamp: str\n",
        "    Occupancy: int\n",
        "    Capacity: int\n",
        "    QueueLength: int\n",
        "    Traffic: float\n",
        "    IsSpecialDay: int\n",
        "    VehicleType: str\n",
        "\n",
        "# Stream data from the prepared CSV\n",
        "source = read(\n",
        "    \"parking_stream.csv\",\n",
        "    schema=ParkingSchema,\n",
        "    mode=\"streaming\",\n",
        "    autocommit_duration_ms=1000,\n",
        ")\n",
        "\n",
        "# Vehicle type weights\n",
        "vehicle_weights = {\n",
        "    \"car\": 1.0,\n",
        "    \"bike\": 0.5,\n",
        "    \"truck\": 1.5\n",
        "}\n",
        "\n",
        "# Model 2 Pricing Logic\n",
        "@pw.udf\n",
        "def model2_price(occupancy, capacity, queue, traffic, special, vehicle):\n",
        "    alpha, beta, gamma, delta, epsilon = 0.4, 0.3, 0.2, 0.2, 0.5\n",
        "    base_price = 10.0\n",
        "\n",
        "    if capacity == 0:\n",
        "        return base_price\n",
        "\n",
        "    vt_weight = vehicle_weights.get(vehicle.lower(), 1.0)\n",
        "\n",
        "    demand = (\n",
        "        alpha * (occupancy / capacity) +\n",
        "        beta * queue -\n",
        "        gamma * traffic +\n",
        "        delta * special +\n",
        "        epsilon * vt_weight\n",
        "    )\n",
        "\n",
        "    price = base_price * (1 + 0.1 * demand)\n",
        "    return round(min(max(price, 5), 20), 2)  # Clamp between $5 and $20\n",
        "\n",
        "# Generate result table\n",
        "result = source.select(\n",
        "    Timestamp=source.Timestamp,\n",
        "    Occupancy=source.Occupancy,\n",
        "    Capacity=source.Capacity,\n",
        "    Price=model2_price(\n",
        "        source.Occupancy,\n",
        "        source.Capacity,\n",
        "        source.QueueLength,\n",
        "        source.Traffic,\n",
        "        source.IsSpecialDay,\n",
        "        source.VehicleType,\n",
        "    )\n",
        ")\n",
        "\n",
        "# Export to CSV\n",
        "write(result, \"final_prices.csv\")\n",
        "\n",
        "# Execute pipeline\n",
        "pw.run()\n"
      ],
      "metadata": {
        "id": "CJwJSJa6vBUt"
      },
      "execution_count": null,
      "outputs": []
    },
    {
      "cell_type": "code",
      "source": [
        "import matplotlib.pyplot as plt\n",
        "\n",
        "plt.figure(figsize=(14, 6))\n",
        "plt.plot(df[\"Timestamp\"], df[\"Price\"], color=\"#E63946\", marker=\"o\", linewidth=2)\n",
        "\n",
        "plt.title(\"Model 2: Dynamic Parking Price Over Time\", fontsize=18, fontweight='bold')\n",
        "plt.xlabel(\"Timestamp\", fontsize=14)\n",
        "plt.ylabel(\"Price ($)\", fontsize=14)\n",
        "\n",
        "plt.grid(True, linestyle='--', alpha=0.5)\n",
        "plt.xticks(rotation=45)\n",
        "plt.tight_layout()\n",
        "plt.show()\n"
      ],
      "metadata": {
        "id": "fG4Q5nxCvz4P"
      },
      "execution_count": null,
      "outputs": []
    }
  ],
  "metadata": {
    "colab": {
      "provenance": []
    },
    "kaggle": {
      "accelerator": "none",
      "dataSources": [
        {
          "datasetId": 7749157,
          "sourceId": 12294858,
          "sourceType": "datasetVersion"
        }
      ],
      "dockerImageVersionId": 31040,
      "isGpuEnabled": false,
      "isInternetEnabled": true,
      "language": "python",
      "sourceType": "notebook"
    },
    "kernelspec": {
      "display_name": "Python 3",
      "language": "python",
      "name": "python3"
    },
    "language_info": {
      "codemirror_mode": {
        "name": "ipython",
        "version": 3
      },
      "file_extension": ".py",
      "mimetype": "text/x-python",
      "name": "python",
      "nbconvert_exporter": "python",
      "pygments_lexer": "ipython3",
      "version": "3.11.11"
    }
  },
  "nbformat": 4,
  "nbformat_minor": 0
}